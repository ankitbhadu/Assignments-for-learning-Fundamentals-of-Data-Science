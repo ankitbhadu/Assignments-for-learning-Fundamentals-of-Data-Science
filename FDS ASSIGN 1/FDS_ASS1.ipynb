{
  "nbformat": 4,
  "nbformat_minor": 0,
  "metadata": {
    "colab": {
      "name": "FDS_ASS1.ipynb",
      "provenance": []
    },
    "kernelspec": {
      "name": "python3",
      "display_name": "Python 3"
    }
  },
  "cells": [
    {
      "cell_type": "code",
      "metadata": {
        "id": "_MDMB07_HYxk",
        "colab_type": "code",
        "colab": {}
      },
      "source": [
        "import sklearn\n",
        "import matplotlib.pyplot as plt\n",
        "import numpy as np\n",
        "import pandas as pd\n"
      ],
      "execution_count": 0,
      "outputs": []
    },
    {
      "cell_type": "code",
      "metadata": {
        "id": "Y8f2hYlnLMgc",
        "colab_type": "code",
        "colab": {}
      },
      "source": [
        "from sklearn.datasets import load_boston\n"
      ],
      "execution_count": 0,
      "outputs": []
    },
    {
      "cell_type": "code",
      "metadata": {
        "id": "DpZ5uW33Lobg",
        "colab_type": "code",
        "colab": {}
      },
      "source": [
        "house_price = load_boston()\n",
        "df = pd.DataFrame(house_price.data,\n",
        "                  columns = house_price.feature_names)\n"
      ],
      "execution_count": 0,
      "outputs": []
    },
    {
      "cell_type": "code",
      "metadata": {
        "id": "gya1aO0rzrXk",
        "colab_type": "code",
        "colab": {
          "base_uri": "https://localhost:8080/",
          "height": 251
        },
        "outputId": "bb6a13bf-ec7c-4274-ce7d-43e210749ce0"
      },
      "source": [
        "#checking if any data is empty\n",
        "check=df.isnull()\n",
        "check.sum()\n",
        "#output shows no empty values"
      ],
      "execution_count": 143,
      "outputs": [
        {
          "output_type": "execute_result",
          "data": {
            "text/plain": [
              "CRIM       0\n",
              "ZN         0\n",
              "INDUS      0\n",
              "CHAS       0\n",
              "NOX        0\n",
              "RM         0\n",
              "AGE        0\n",
              "DIS        0\n",
              "RAD        0\n",
              "TAX        0\n",
              "PTRATIO    0\n",
              "B          0\n",
              "LSTAT      0\n",
              "dtype: int64"
            ]
          },
          "metadata": {
            "tags": []
          },
          "execution_count": 143
        }
      ]
    },
    {
      "cell_type": "code",
      "metadata": {
        "id": "a6N4chWOLzKQ",
        "colab_type": "code",
        "outputId": "108f9e50-aecd-4a26-9915-ab8d7f72274d",
        "colab": {
          "base_uri": "https://localhost:8080/",
          "height": 196
        }
      },
      "source": [
        "df['PRICE'] = house_price.target\n",
        "df.head()"
      ],
      "execution_count": 144,
      "outputs": [
        {
          "output_type": "execute_result",
          "data": {
            "text/html": [
              "<div>\n",
              "<style scoped>\n",
              "    .dataframe tbody tr th:only-of-type {\n",
              "        vertical-align: middle;\n",
              "    }\n",
              "\n",
              "    .dataframe tbody tr th {\n",
              "        vertical-align: top;\n",
              "    }\n",
              "\n",
              "    .dataframe thead th {\n",
              "        text-align: right;\n",
              "    }\n",
              "</style>\n",
              "<table border=\"1\" class=\"dataframe\">\n",
              "  <thead>\n",
              "    <tr style=\"text-align: right;\">\n",
              "      <th></th>\n",
              "      <th>CRIM</th>\n",
              "      <th>ZN</th>\n",
              "      <th>INDUS</th>\n",
              "      <th>CHAS</th>\n",
              "      <th>NOX</th>\n",
              "      <th>RM</th>\n",
              "      <th>AGE</th>\n",
              "      <th>DIS</th>\n",
              "      <th>RAD</th>\n",
              "      <th>TAX</th>\n",
              "      <th>PTRATIO</th>\n",
              "      <th>B</th>\n",
              "      <th>LSTAT</th>\n",
              "      <th>PRICE</th>\n",
              "    </tr>\n",
              "  </thead>\n",
              "  <tbody>\n",
              "    <tr>\n",
              "      <th>0</th>\n",
              "      <td>0.00632</td>\n",
              "      <td>18.0</td>\n",
              "      <td>2.31</td>\n",
              "      <td>0.0</td>\n",
              "      <td>0.538</td>\n",
              "      <td>6.575</td>\n",
              "      <td>65.2</td>\n",
              "      <td>4.0900</td>\n",
              "      <td>1.0</td>\n",
              "      <td>296.0</td>\n",
              "      <td>15.3</td>\n",
              "      <td>396.90</td>\n",
              "      <td>4.98</td>\n",
              "      <td>24.0</td>\n",
              "    </tr>\n",
              "    <tr>\n",
              "      <th>1</th>\n",
              "      <td>0.02731</td>\n",
              "      <td>0.0</td>\n",
              "      <td>7.07</td>\n",
              "      <td>0.0</td>\n",
              "      <td>0.469</td>\n",
              "      <td>6.421</td>\n",
              "      <td>78.9</td>\n",
              "      <td>4.9671</td>\n",
              "      <td>2.0</td>\n",
              "      <td>242.0</td>\n",
              "      <td>17.8</td>\n",
              "      <td>396.90</td>\n",
              "      <td>9.14</td>\n",
              "      <td>21.6</td>\n",
              "    </tr>\n",
              "    <tr>\n",
              "      <th>2</th>\n",
              "      <td>0.02729</td>\n",
              "      <td>0.0</td>\n",
              "      <td>7.07</td>\n",
              "      <td>0.0</td>\n",
              "      <td>0.469</td>\n",
              "      <td>7.185</td>\n",
              "      <td>61.1</td>\n",
              "      <td>4.9671</td>\n",
              "      <td>2.0</td>\n",
              "      <td>242.0</td>\n",
              "      <td>17.8</td>\n",
              "      <td>392.83</td>\n",
              "      <td>4.03</td>\n",
              "      <td>34.7</td>\n",
              "    </tr>\n",
              "    <tr>\n",
              "      <th>3</th>\n",
              "      <td>0.03237</td>\n",
              "      <td>0.0</td>\n",
              "      <td>2.18</td>\n",
              "      <td>0.0</td>\n",
              "      <td>0.458</td>\n",
              "      <td>6.998</td>\n",
              "      <td>45.8</td>\n",
              "      <td>6.0622</td>\n",
              "      <td>3.0</td>\n",
              "      <td>222.0</td>\n",
              "      <td>18.7</td>\n",
              "      <td>394.63</td>\n",
              "      <td>2.94</td>\n",
              "      <td>33.4</td>\n",
              "    </tr>\n",
              "    <tr>\n",
              "      <th>4</th>\n",
              "      <td>0.06905</td>\n",
              "      <td>0.0</td>\n",
              "      <td>2.18</td>\n",
              "      <td>0.0</td>\n",
              "      <td>0.458</td>\n",
              "      <td>7.147</td>\n",
              "      <td>54.2</td>\n",
              "      <td>6.0622</td>\n",
              "      <td>3.0</td>\n",
              "      <td>222.0</td>\n",
              "      <td>18.7</td>\n",
              "      <td>396.90</td>\n",
              "      <td>5.33</td>\n",
              "      <td>36.2</td>\n",
              "    </tr>\n",
              "  </tbody>\n",
              "</table>\n",
              "</div>"
            ],
            "text/plain": [
              "      CRIM    ZN  INDUS  CHAS    NOX  ...    TAX  PTRATIO       B  LSTAT  PRICE\n",
              "0  0.00632  18.0   2.31   0.0  0.538  ...  296.0     15.3  396.90   4.98   24.0\n",
              "1  0.02731   0.0   7.07   0.0  0.469  ...  242.0     17.8  396.90   9.14   21.6\n",
              "2  0.02729   0.0   7.07   0.0  0.469  ...  242.0     17.8  392.83   4.03   34.7\n",
              "3  0.03237   0.0   2.18   0.0  0.458  ...  222.0     18.7  394.63   2.94   33.4\n",
              "4  0.06905   0.0   2.18   0.0  0.458  ...  222.0     18.7  396.90   5.33   36.2\n",
              "\n",
              "[5 rows x 14 columns]"
            ]
          },
          "metadata": {
            "tags": []
          },
          "execution_count": 144
        }
      ]
    },
    {
      "cell_type": "code",
      "metadata": {
        "id": "WjbjZlrkMhdv",
        "colab_type": "code",
        "outputId": "bed7c698-3ef4-4381-9ca6-da35ed0fbc2b",
        "colab": {
          "base_uri": "https://localhost:8080/",
          "height": 890
        }
      },
      "source": [
        "print(house_price.DESCR)"
      ],
      "execution_count": 145,
      "outputs": [
        {
          "output_type": "stream",
          "text": [
            ".. _boston_dataset:\n",
            "\n",
            "Boston house prices dataset\n",
            "---------------------------\n",
            "\n",
            "**Data Set Characteristics:**  \n",
            "\n",
            "    :Number of Instances: 506 \n",
            "\n",
            "    :Number of Attributes: 13 numeric/categorical predictive. Median Value (attribute 14) is usually the target.\n",
            "\n",
            "    :Attribute Information (in order):\n",
            "        - CRIM     per capita crime rate by town\n",
            "        - ZN       proportion of residential land zoned for lots over 25,000 sq.ft.\n",
            "        - INDUS    proportion of non-retail business acres per town\n",
            "        - CHAS     Charles River dummy variable (= 1 if tract bounds river; 0 otherwise)\n",
            "        - NOX      nitric oxides concentration (parts per 10 million)\n",
            "        - RM       average number of rooms per dwelling\n",
            "        - AGE      proportion of owner-occupied units built prior to 1940\n",
            "        - DIS      weighted distances to five Boston employment centres\n",
            "        - RAD      index of accessibility to radial highways\n",
            "        - TAX      full-value property-tax rate per $10,000\n",
            "        - PTRATIO  pupil-teacher ratio by town\n",
            "        - B        1000(Bk - 0.63)^2 where Bk is the proportion of blacks by town\n",
            "        - LSTAT    % lower status of the population\n",
            "        - MEDV     Median value of owner-occupied homes in $1000's\n",
            "\n",
            "    :Missing Attribute Values: None\n",
            "\n",
            "    :Creator: Harrison, D. and Rubinfeld, D.L.\n",
            "\n",
            "This is a copy of UCI ML housing dataset.\n",
            "https://archive.ics.uci.edu/ml/machine-learning-databases/housing/\n",
            "\n",
            "\n",
            "This dataset was taken from the StatLib library which is maintained at Carnegie Mellon University.\n",
            "\n",
            "The Boston house-price data of Harrison, D. and Rubinfeld, D.L. 'Hedonic\n",
            "prices and the demand for clean air', J. Environ. Economics & Management,\n",
            "vol.5, 81-102, 1978.   Used in Belsley, Kuh & Welsch, 'Regression diagnostics\n",
            "...', Wiley, 1980.   N.B. Various transformations are used in the table on\n",
            "pages 244-261 of the latter.\n",
            "\n",
            "The Boston house-price data has been used in many machine learning papers that address regression\n",
            "problems.   \n",
            "     \n",
            ".. topic:: References\n",
            "\n",
            "   - Belsley, Kuh & Welsch, 'Regression diagnostics: Identifying Influential Data and Sources of Collinearity', Wiley, 1980. 244-261.\n",
            "   - Quinlan,R. (1993). Combining Instance-Based and Model-Based Learning. In Proceedings on the Tenth International Conference of Machine Learning, 236-243, University of Massachusetts, Amherst. Morgan Kaufmann.\n",
            "\n"
          ],
          "name": "stdout"
        }
      ]
    },
    {
      "cell_type": "code",
      "metadata": {
        "id": "sFtIKgVURIWr",
        "colab_type": "code",
        "outputId": "6fc351c0-cf33-4d68-a688-1711db2e0fb6",
        "colab": {
          "base_uri": "https://localhost:8080/",
          "height": 196
        }
      },
      "source": [
        "X= df.drop(axis=1,columns='PRICE')\n",
        "Y= df['PRICE']\n",
        "X.head()"
      ],
      "execution_count": 146,
      "outputs": [
        {
          "output_type": "execute_result",
          "data": {
            "text/html": [
              "<div>\n",
              "<style scoped>\n",
              "    .dataframe tbody tr th:only-of-type {\n",
              "        vertical-align: middle;\n",
              "    }\n",
              "\n",
              "    .dataframe tbody tr th {\n",
              "        vertical-align: top;\n",
              "    }\n",
              "\n",
              "    .dataframe thead th {\n",
              "        text-align: right;\n",
              "    }\n",
              "</style>\n",
              "<table border=\"1\" class=\"dataframe\">\n",
              "  <thead>\n",
              "    <tr style=\"text-align: right;\">\n",
              "      <th></th>\n",
              "      <th>CRIM</th>\n",
              "      <th>ZN</th>\n",
              "      <th>INDUS</th>\n",
              "      <th>CHAS</th>\n",
              "      <th>NOX</th>\n",
              "      <th>RM</th>\n",
              "      <th>AGE</th>\n",
              "      <th>DIS</th>\n",
              "      <th>RAD</th>\n",
              "      <th>TAX</th>\n",
              "      <th>PTRATIO</th>\n",
              "      <th>B</th>\n",
              "      <th>LSTAT</th>\n",
              "    </tr>\n",
              "  </thead>\n",
              "  <tbody>\n",
              "    <tr>\n",
              "      <th>0</th>\n",
              "      <td>0.00632</td>\n",
              "      <td>18.0</td>\n",
              "      <td>2.31</td>\n",
              "      <td>0.0</td>\n",
              "      <td>0.538</td>\n",
              "      <td>6.575</td>\n",
              "      <td>65.2</td>\n",
              "      <td>4.0900</td>\n",
              "      <td>1.0</td>\n",
              "      <td>296.0</td>\n",
              "      <td>15.3</td>\n",
              "      <td>396.90</td>\n",
              "      <td>4.98</td>\n",
              "    </tr>\n",
              "    <tr>\n",
              "      <th>1</th>\n",
              "      <td>0.02731</td>\n",
              "      <td>0.0</td>\n",
              "      <td>7.07</td>\n",
              "      <td>0.0</td>\n",
              "      <td>0.469</td>\n",
              "      <td>6.421</td>\n",
              "      <td>78.9</td>\n",
              "      <td>4.9671</td>\n",
              "      <td>2.0</td>\n",
              "      <td>242.0</td>\n",
              "      <td>17.8</td>\n",
              "      <td>396.90</td>\n",
              "      <td>9.14</td>\n",
              "    </tr>\n",
              "    <tr>\n",
              "      <th>2</th>\n",
              "      <td>0.02729</td>\n",
              "      <td>0.0</td>\n",
              "      <td>7.07</td>\n",
              "      <td>0.0</td>\n",
              "      <td>0.469</td>\n",
              "      <td>7.185</td>\n",
              "      <td>61.1</td>\n",
              "      <td>4.9671</td>\n",
              "      <td>2.0</td>\n",
              "      <td>242.0</td>\n",
              "      <td>17.8</td>\n",
              "      <td>392.83</td>\n",
              "      <td>4.03</td>\n",
              "    </tr>\n",
              "    <tr>\n",
              "      <th>3</th>\n",
              "      <td>0.03237</td>\n",
              "      <td>0.0</td>\n",
              "      <td>2.18</td>\n",
              "      <td>0.0</td>\n",
              "      <td>0.458</td>\n",
              "      <td>6.998</td>\n",
              "      <td>45.8</td>\n",
              "      <td>6.0622</td>\n",
              "      <td>3.0</td>\n",
              "      <td>222.0</td>\n",
              "      <td>18.7</td>\n",
              "      <td>394.63</td>\n",
              "      <td>2.94</td>\n",
              "    </tr>\n",
              "    <tr>\n",
              "      <th>4</th>\n",
              "      <td>0.06905</td>\n",
              "      <td>0.0</td>\n",
              "      <td>2.18</td>\n",
              "      <td>0.0</td>\n",
              "      <td>0.458</td>\n",
              "      <td>7.147</td>\n",
              "      <td>54.2</td>\n",
              "      <td>6.0622</td>\n",
              "      <td>3.0</td>\n",
              "      <td>222.0</td>\n",
              "      <td>18.7</td>\n",
              "      <td>396.90</td>\n",
              "      <td>5.33</td>\n",
              "    </tr>\n",
              "  </tbody>\n",
              "</table>\n",
              "</div>"
            ],
            "text/plain": [
              "      CRIM    ZN  INDUS  CHAS    NOX  ...  RAD    TAX  PTRATIO       B  LSTAT\n",
              "0  0.00632  18.0   2.31   0.0  0.538  ...  1.0  296.0     15.3  396.90   4.98\n",
              "1  0.02731   0.0   7.07   0.0  0.469  ...  2.0  242.0     17.8  396.90   9.14\n",
              "2  0.02729   0.0   7.07   0.0  0.469  ...  2.0  242.0     17.8  392.83   4.03\n",
              "3  0.03237   0.0   2.18   0.0  0.458  ...  3.0  222.0     18.7  394.63   2.94\n",
              "4  0.06905   0.0   2.18   0.0  0.458  ...  3.0  222.0     18.7  396.90   5.33\n",
              "\n",
              "[5 rows x 13 columns]"
            ]
          },
          "metadata": {
            "tags": []
          },
          "execution_count": 146
        }
      ]
    },
    {
      "cell_type": "markdown",
      "metadata": {
        "id": "o7CQ3EGpUBz6",
        "colab_type": "text"
      },
      "source": [
        "Task 1: splitting the data\n"
      ]
    },
    {
      "cell_type": "code",
      "metadata": {
        "id": "TsLa5ndFR40-",
        "colab_type": "code",
        "outputId": "49a60d39-4f7a-4925-fd5a-a9f484764d3f",
        "colab": {
          "base_uri": "https://localhost:8080/",
          "height": 84
        }
      },
      "source": [
        "import sklearn.model_selection\n",
        "X_train, X_test, Y_train, Y_test = sklearn.model_selection.train_test_split(X, Y, test_size = 0.30, random_state = 0)\n",
        "print(X_train.shape)\n",
        "print(X_test.shape)\n",
        "print(Y_train.shape)\n",
        "print(Y_test.shape)\n"
      ],
      "execution_count": 147,
      "outputs": [
        {
          "output_type": "stream",
          "text": [
            "(354, 13)\n",
            "(152, 13)\n",
            "(354,)\n",
            "(152,)\n"
          ],
          "name": "stdout"
        }
      ]
    },
    {
      "cell_type": "code",
      "metadata": {
        "id": "KVWnXaogSGOT",
        "colab_type": "code",
        "outputId": "1e1f7a72-0869-458f-914a-ecd7a53fc395",
        "colab": {
          "base_uri": "https://localhost:8080/",
          "height": 33
        }
      },
      "source": [
        "\n",
        "from sklearn.linear_model import LinearRegression\n",
        "\n",
        "OLS_model = LinearRegression(fit_intercept=True,normalize=False,copy_X=True)\n",
        "OLS_model.fit(X_train, Y_train)"
      ],
      "execution_count": 148,
      "outputs": [
        {
          "output_type": "execute_result",
          "data": {
            "text/plain": [
              "LinearRegression(copy_X=True, fit_intercept=True, n_jobs=None, normalize=False)"
            ]
          },
          "metadata": {
            "tags": []
          },
          "execution_count": 148
        }
      ]
    },
    {
      "cell_type": "code",
      "metadata": {
        "id": "mI5WYTkTWkX7",
        "colab_type": "code",
        "outputId": "58f5bc94-c10e-422c-ced4-8e726632de84",
        "colab": {
          "base_uri": "https://localhost:8080/",
          "height": 33
        }
      },
      "source": [
        "b_coef= OLS_model.coef_\n",
        "print(b_coef[12])"
      ],
      "execution_count": 149,
      "outputs": [
        {
          "output_type": "stream",
          "text": [
            "-0.4867380656449212\n"
          ],
          "name": "stdout"
        }
      ]
    },
    {
      "cell_type": "code",
      "metadata": {
        "id": "v524T6_mWSHs",
        "colab_type": "code",
        "outputId": "0637a1dd-bccf-440a-c519-7183a950fe8b",
        "colab": {
          "base_uri": "https://localhost:8080/",
          "height": 67
        }
      },
      "source": [
        "B= pd.DataFrame(data=b_coef,index=X.columns)\n",
        "X.columns"
      ],
      "execution_count": 150,
      "outputs": [
        {
          "output_type": "execute_result",
          "data": {
            "text/plain": [
              "Index(['CRIM', 'ZN', 'INDUS', 'CHAS', 'NOX', 'RM', 'AGE', 'DIS', 'RAD', 'TAX',\n",
              "       'PTRATIO', 'B', 'LSTAT'],\n",
              "      dtype='object')"
            ]
          },
          "metadata": {
            "tags": []
          },
          "execution_count": 150
        }
      ]
    },
    {
      "cell_type": "code",
      "metadata": {
        "id": "trRIuR_wiFpa",
        "colab_type": "code",
        "outputId": "495f182d-27d5-4bc6-fabf-465b74ffbcc0",
        "colab": {
          "base_uri": "https://localhost:8080/",
          "height": 315
        }
      },
      "source": [
        "B.plot.bar()"
      ],
      "execution_count": 151,
      "outputs": [
        {
          "output_type": "execute_result",
          "data": {
            "text/plain": [
              "<matplotlib.axes._subplots.AxesSubplot at 0x7fe9ede588d0>"
            ]
          },
          "metadata": {
            "tags": []
          },
          "execution_count": 151
        },
        {
          "output_type": "display_data",
          "data": {
            "image/png": "[encoded data removed]",
            "text/plain": [
              "<Figure size 432x288 with 1 Axes>"
            ]
          },
          "metadata": {
            "tags": []
          }
        }
      ]
    },
    {
      "cell_type": "markdown",
      "metadata": {
        "id": "GG-Z_h1tl_4d",
        "colab_type": "text"
      },
      "source": [
        "Task2\n"
      ]
    },
    {
      "cell_type": "code",
      "metadata": {
        "id": "0uJv-T80mAv1",
        "colab_type": "code",
        "outputId": "b98a048c-2bce-4dce-fcaf-1cc9b388b2ed",
        "colab": {
          "base_uri": "https://localhost:8080/",
          "height": 33
        }
      },
      "source": [
        "\n",
        "print(X.shape)\n"
      ],
      "execution_count": 152,
      "outputs": [
        {
          "output_type": "stream",
          "text": [
            "(506, 13)\n"
          ],
          "name": "stdout"
        }
      ]
    },
    {
      "cell_type": "code",
      "metadata": {
        "id": "QYrxskmDQBDn",
        "colab_type": "code",
        "outputId": "566862c9-d825-4b60-e186-757af2339750",
        "colab": {
          "base_uri": "https://localhost:8080/",
          "height": 196
        }
      },
      "source": [
        "df3 = pd.DataFrame(columns=['room',\n",
        "                   'residential zone', \n",
        "                   'highway access'\n",
        "                    ,'crime rate'\n",
        "                    ,'tax'],index= range(200))\n",
        "df3.head()"
      ],
      "execution_count": 153,
      "outputs": [
        {
          "output_type": "execute_result",
          "data": {
            "text/html": [
              "<div>\n",
              "<style scoped>\n",
              "    .dataframe tbody tr th:only-of-type {\n",
              "        vertical-align: middle;\n",
              "    }\n",
              "\n",
              "    .dataframe tbody tr th {\n",
              "        vertical-align: top;\n",
              "    }\n",
              "\n",
              "    .dataframe thead th {\n",
              "        text-align: right;\n",
              "    }\n",
              "</style>\n",
              "<table border=\"1\" class=\"dataframe\">\n",
              "  <thead>\n",
              "    <tr style=\"text-align: right;\">\n",
              "      <th></th>\n",
              "      <th>room</th>\n",
              "      <th>residential zone</th>\n",
              "      <th>highway access</th>\n",
              "      <th>crime rate</th>\n",
              "      <th>tax</th>\n",
              "    </tr>\n",
              "  </thead>\n",
              "  <tbody>\n",
              "    <tr>\n",
              "      <th>0</th>\n",
              "      <td>NaN</td>\n",
              "      <td>NaN</td>\n",
              "      <td>NaN</td>\n",
              "      <td>NaN</td>\n",
              "      <td>NaN</td>\n",
              "    </tr>\n",
              "    <tr>\n",
              "      <th>1</th>\n",
              "      <td>NaN</td>\n",
              "      <td>NaN</td>\n",
              "      <td>NaN</td>\n",
              "      <td>NaN</td>\n",
              "      <td>NaN</td>\n",
              "    </tr>\n",
              "    <tr>\n",
              "      <th>2</th>\n",
              "      <td>NaN</td>\n",
              "      <td>NaN</td>\n",
              "      <td>NaN</td>\n",
              "      <td>NaN</td>\n",
              "      <td>NaN</td>\n",
              "    </tr>\n",
              "    <tr>\n",
              "      <th>3</th>\n",
              "      <td>NaN</td>\n",
              "      <td>NaN</td>\n",
              "      <td>NaN</td>\n",
              "      <td>NaN</td>\n",
              "      <td>NaN</td>\n",
              "    </tr>\n",
              "    <tr>\n",
              "      <th>4</th>\n",
              "      <td>NaN</td>\n",
              "      <td>NaN</td>\n",
              "      <td>NaN</td>\n",
              "      <td>NaN</td>\n",
              "      <td>NaN</td>\n",
              "    </tr>\n",
              "  </tbody>\n",
              "</table>\n",
              "</div>"
            ],
            "text/plain": [
              "  room residential zone highway access crime rate  tax\n",
              "0  NaN              NaN            NaN        NaN  NaN\n",
              "1  NaN              NaN            NaN        NaN  NaN\n",
              "2  NaN              NaN            NaN        NaN  NaN\n",
              "3  NaN              NaN            NaN        NaN  NaN\n",
              "4  NaN              NaN            NaN        NaN  NaN"
            ]
          },
          "metadata": {
            "tags": []
          },
          "execution_count": 153
        }
      ]
    },
    {
      "cell_type": "code",
      "metadata": {
        "id": "vIQTqVLpNyZv",
        "colab_type": "code",
        "colab": {}
      },
      "source": [
        "X_train, X_test, Y_train, Y_test = sklearn.model_selection.train_test_split(X, Y, test_size = 0.30, random_state = 0)\n",
        "\n",
        "from sklearn.linear_model import Ridge\n",
        "reg_coef_L = pd.DataFrame(columns=['crime rate',\n",
        "                                   'room',\n",
        "                   'residential zone', \n",
        "                   'highway access'\n",
        "                    ,'tax']) \n",
        "for lamda in range(200):\n",
        "  Ridge_model =Ridge(fit_intercept=True,normalize=True,copy_X=True,alpha=lamda)\n",
        "  Ridge_model.fit(X_train, Y_train)\n",
        "  df2 = pd.DataFrame([[Ridge_model.coef_[0],Ridge_model.coef_[5],Ridge_model.coef_[1],Ridge_model.coef_[8],Ridge_model.coef_[9]]], columns=['crime rate',\n",
        "                                   'room',\n",
        "                   'residential zone', \n",
        "                   'highway access'\n",
        "                    ,'tax'])\n",
        "  reg_coef_L=reg_coef_L.append(df2,ignore_index=True)\n",
        "\n"
      ],
      "execution_count": 0,
      "outputs": []
    },
    {
      "cell_type": "code",
      "metadata": {
        "id": "8HpE0RnbN8yL",
        "colab_type": "code",
        "outputId": "aca32933-72b5-443d-fd8a-4fa01e1907ea",
        "colab": {
          "base_uri": "https://localhost:8080/",
          "height": 404
        }
      },
      "source": [
        "reg_coef_L"
      ],
      "execution_count": 155,
      "outputs": [
        {
          "output_type": "execute_result",
          "data": {
            "text/html": [
              "<div>\n",
              "<style scoped>\n",
              "    .dataframe tbody tr th:only-of-type {\n",
              "        vertical-align: middle;\n",
              "    }\n",
              "\n",
              "    .dataframe tbody tr th {\n",
              "        vertical-align: top;\n",
              "    }\n",
              "\n",
              "    .dataframe thead th {\n",
              "        text-align: right;\n",
              "    }\n",
              "</style>\n",
              "<table border=\"1\" class=\"dataframe\">\n",
              "  <thead>\n",
              "    <tr style=\"text-align: right;\">\n",
              "      <th></th>\n",
              "      <th>crime rate</th>\n",
              "      <th>room</th>\n",
              "      <th>residential zone</th>\n",
              "      <th>highway access</th>\n",
              "      <th>tax</th>\n",
              "    </tr>\n",
              "  </thead>\n",
              "  <tbody>\n",
              "    <tr>\n",
              "      <th>0</th>\n",
              "      <td>-0.121310</td>\n",
              "      <td>3.859068</td>\n",
              "      <td>0.044466</td>\n",
              "      <td>0.242143</td>\n",
              "      <td>-0.011072</td>\n",
              "    </tr>\n",
              "    <tr>\n",
              "      <th>1</th>\n",
              "      <td>-0.068001</td>\n",
              "      <td>2.880140</td>\n",
              "      <td>0.019307</td>\n",
              "      <td>-0.013911</td>\n",
              "      <td>-0.002939</td>\n",
              "    </tr>\n",
              "    <tr>\n",
              "      <th>2</th>\n",
              "      <td>-0.056939</td>\n",
              "      <td>2.122684</td>\n",
              "      <td>0.017274</td>\n",
              "      <td>-0.027019</td>\n",
              "      <td>-0.002759</td>\n",
              "    </tr>\n",
              "    <tr>\n",
              "      <th>3</th>\n",
              "      <td>-0.049720</td>\n",
              "      <td>1.691319</td>\n",
              "      <td>0.015636</td>\n",
              "      <td>-0.029878</td>\n",
              "      <td>-0.002554</td>\n",
              "    </tr>\n",
              "    <tr>\n",
              "      <th>4</th>\n",
              "      <td>-0.044315</td>\n",
              "      <td>1.411524</td>\n",
              "      <td>0.014244</td>\n",
              "      <td>-0.029921</td>\n",
              "      <td>-0.002356</td>\n",
              "    </tr>\n",
              "    <tr>\n",
              "      <th>...</th>\n",
              "      <td>...</td>\n",
              "      <td>...</td>\n",
              "      <td>...</td>\n",
              "      <td>...</td>\n",
              "      <td>...</td>\n",
              "    </tr>\n",
              "    <tr>\n",
              "      <th>195</th>\n",
              "      <td>-0.002133</td>\n",
              "      <td>0.046972</td>\n",
              "      <td>0.000748</td>\n",
              "      <td>-0.002046</td>\n",
              "      <td>-0.000129</td>\n",
              "    </tr>\n",
              "    <tr>\n",
              "      <th>196</th>\n",
              "      <td>-0.002123</td>\n",
              "      <td>0.046737</td>\n",
              "      <td>0.000744</td>\n",
              "      <td>-0.002036</td>\n",
              "      <td>-0.000128</td>\n",
              "    </tr>\n",
              "    <tr>\n",
              "      <th>197</th>\n",
              "      <td>-0.002112</td>\n",
              "      <td>0.046503</td>\n",
              "      <td>0.000740</td>\n",
              "      <td>-0.002026</td>\n",
              "      <td>-0.000128</td>\n",
              "    </tr>\n",
              "    <tr>\n",
              "      <th>198</th>\n",
              "      <td>-0.002102</td>\n",
              "      <td>0.046272</td>\n",
              "      <td>0.000737</td>\n",
              "      <td>-0.002016</td>\n",
              "      <td>-0.000127</td>\n",
              "    </tr>\n",
              "    <tr>\n",
              "      <th>199</th>\n",
              "      <td>-0.002092</td>\n",
              "      <td>0.046043</td>\n",
              "      <td>0.000733</td>\n",
              "      <td>-0.002007</td>\n",
              "      <td>-0.000127</td>\n",
              "    </tr>\n",
              "  </tbody>\n",
              "</table>\n",
              "<p>200 rows × 5 columns</p>\n",
              "</div>"
            ],
            "text/plain": [
              "     crime rate      room  residential zone  highway access       tax\n",
              "0     -0.121310  3.859068          0.044466        0.242143 -0.011072\n",
              "1     -0.068001  2.880140          0.019307       -0.013911 -0.002939\n",
              "2     -0.056939  2.122684          0.017274       -0.027019 -0.002759\n",
              "3     -0.049720  1.691319          0.015636       -0.029878 -0.002554\n",
              "4     -0.044315  1.411524          0.014244       -0.029921 -0.002356\n",
              "..          ...       ...               ...             ...       ...\n",
              "195   -0.002133  0.046972          0.000748       -0.002046 -0.000129\n",
              "196   -0.002123  0.046737          0.000744       -0.002036 -0.000128\n",
              "197   -0.002112  0.046503          0.000740       -0.002026 -0.000128\n",
              "198   -0.002102  0.046272          0.000737       -0.002016 -0.000127\n",
              "199   -0.002092  0.046043          0.000733       -0.002007 -0.000127\n",
              "\n",
              "[200 rows x 5 columns]"
            ]
          },
          "metadata": {
            "tags": []
          },
          "execution_count": 155
        }
      ]
    },
    {
      "cell_type": "code",
      "metadata": {
        "id": "1DGOrQ26ZlRx",
        "colab_type": "code",
        "colab": {}
      },
      "source": [
        ""
      ],
      "execution_count": 0,
      "outputs": []
    },
    {
      "cell_type": "code",
      "metadata": {
        "id": "MjoBaHfjXEgk",
        "colab_type": "code",
        "outputId": "9c71cd35-f1dd-457b-c9cc-e8e28afdc07a",
        "colab": {
          "base_uri": "https://localhost:8080/",
          "height": 609
        }
      },
      "source": [
        "reg_coef_L.plot.line(figsize=(15,10))"
      ],
      "execution_count": 156,
      "outputs": [
        {
          "output_type": "execute_result",
          "data": {
            "text/plain": [
              "<matplotlib.axes._subplots.AxesSubplot at 0x7fe9eded99e8>"
            ]
          },
          "metadata": {
            "tags": []
          },
          "execution_count": 156
        },
        {
          "output_type": "display_data",
          "data": {
            "image/png": "[encoded data removed]",
            "text/plain": [
              "<Figure size 1080x720 with 1 Axes>"
            ]
          },
          "metadata": {
            "tags": []
          }
        }
      ]
    },
    {
      "cell_type": "code",
      "metadata": {
        "id": "s0uduj_OZEn_",
        "colab_type": "code",
        "colab": {}
      },
      "source": [
        ""
      ],
      "execution_count": 0,
      "outputs": []
    },
    {
      "cell_type": "markdown",
      "metadata": {
        "id": "Fjw4GL3SZJwD",
        "colab_type": "text"
      },
      "source": [
        "Task 3\n"
      ]
    },
    {
      "cell_type": "code",
      "metadata": {
        "id": "P6D0UnrRZLm7",
        "colab_type": "code",
        "outputId": "de6ad020-86d9-43de-c217-87ad97f2aba7",
        "colab": {
          "base_uri": "https://localhost:8080/",
          "height": 196
        }
      },
      "source": [
        "df4 = pd.DataFrame(columns=['room',\n",
        "                   'residential zone', \n",
        "                   'highway access'\n",
        "                    ,'crime rate'\n",
        "                    ,'tax'],index= range(200))\n",
        "df4.head()"
      ],
      "execution_count": 157,
      "outputs": [
        {
          "output_type": "execute_result",
          "data": {
            "text/html": [
              "<div>\n",
              "<style scoped>\n",
              "    .dataframe tbody tr th:only-of-type {\n",
              "        vertical-align: middle;\n",
              "    }\n",
              "\n",
              "    .dataframe tbody tr th {\n",
              "        vertical-align: top;\n",
              "    }\n",
              "\n",
              "    .dataframe thead th {\n",
              "        text-align: right;\n",
              "    }\n",
              "</style>\n",
              "<table border=\"1\" class=\"dataframe\">\n",
              "  <thead>\n",
              "    <tr style=\"text-align: right;\">\n",
              "      <th></th>\n",
              "      <th>room</th>\n",
              "      <th>residential zone</th>\n",
              "      <th>highway access</th>\n",
              "      <th>crime rate</th>\n",
              "      <th>tax</th>\n",
              "    </tr>\n",
              "  </thead>\n",
              "  <tbody>\n",
              "    <tr>\n",
              "      <th>0</th>\n",
              "      <td>NaN</td>\n",
              "      <td>NaN</td>\n",
              "      <td>NaN</td>\n",
              "      <td>NaN</td>\n",
              "      <td>NaN</td>\n",
              "    </tr>\n",
              "    <tr>\n",
              "      <th>1</th>\n",
              "      <td>NaN</td>\n",
              "      <td>NaN</td>\n",
              "      <td>NaN</td>\n",
              "      <td>NaN</td>\n",
              "      <td>NaN</td>\n",
              "    </tr>\n",
              "    <tr>\n",
              "      <th>2</th>\n",
              "      <td>NaN</td>\n",
              "      <td>NaN</td>\n",
              "      <td>NaN</td>\n",
              "      <td>NaN</td>\n",
              "      <td>NaN</td>\n",
              "    </tr>\n",
              "    <tr>\n",
              "      <th>3</th>\n",
              "      <td>NaN</td>\n",
              "      <td>NaN</td>\n",
              "      <td>NaN</td>\n",
              "      <td>NaN</td>\n",
              "      <td>NaN</td>\n",
              "    </tr>\n",
              "    <tr>\n",
              "      <th>4</th>\n",
              "      <td>NaN</td>\n",
              "      <td>NaN</td>\n",
              "      <td>NaN</td>\n",
              "      <td>NaN</td>\n",
              "      <td>NaN</td>\n",
              "    </tr>\n",
              "  </tbody>\n",
              "</table>\n",
              "</div>"
            ],
            "text/plain": [
              "  room residential zone highway access crime rate  tax\n",
              "0  NaN              NaN            NaN        NaN  NaN\n",
              "1  NaN              NaN            NaN        NaN  NaN\n",
              "2  NaN              NaN            NaN        NaN  NaN\n",
              "3  NaN              NaN            NaN        NaN  NaN\n",
              "4  NaN              NaN            NaN        NaN  NaN"
            ]
          },
          "metadata": {
            "tags": []
          },
          "execution_count": 157
        }
      ]
    },
    {
      "cell_type": "code",
      "metadata": {
        "id": "ZuF4ovw-Zc-j",
        "colab_type": "code",
        "outputId": "bdb98d09-f91d-4851-9adb-cdd8c650b2bc",
        "colab": {
          "base_uri": "https://localhost:8080/",
          "height": 67
        }
      },
      "source": [
        "X_train, X_test, Y_train, Y_test = sklearn.model_selection.train_test_split(X, Y, test_size = 0.30, random_state = 0)\n",
        "\n",
        "from sklearn.linear_model import Lasso\n",
        "reg_coef_Lasso = pd.DataFrame(columns=['crime rate',\n",
        "                                   'room',\n",
        "                   'residential zone', \n",
        "                   'highway access'\n",
        "                    ,'tax']) \n",
        "Lasso_model =Lasso(fit_intercept=True,normalize=False,copy_X=True,alpha=4)\n",
        "Lasso_model.fit(X_train, Y_train)\n",
        "print(Lasso_model.coef_)"
      ],
      "execution_count": 158,
      "outputs": [
        {
          "output_type": "stream",
          "text": [
            "[-0.          0.03965108 -0.          0.          0.          0.\n",
            "  0.03706659 -0.          0.         -0.00849255 -0.21079256  0.00464294\n",
            " -0.76847208]\n"
          ],
          "name": "stdout"
        }
      ]
    },
    {
      "cell_type": "code",
      "metadata": {
        "id": "JUGtblaAfG3Z",
        "colab_type": "code",
        "outputId": "528c130c-811a-4484-936f-86035044380b",
        "colab": {
          "base_uri": "https://localhost:8080/",
          "height": 1000
        }
      },
      "source": [
        "for lamda in range(2,200):\n",
        "  Lasso_model =Lasso(fit_intercept=True,normalize=False,copy_X=True,alpha=lamda)\n",
        "  Lasso_model.fit(X_train, Y_train)\n",
        "  print(Lasso_model.coef_)\n",
        "  df5 = pd.DataFrame([[Lasso_model.coef_[0],Lasso_model.coef_[5],Lasso_model.coef_[1],Lasso_model.coef_[8],Lasso_model.coef_[9]]], columns=['crime rate',\n",
        "                                   'room',\n",
        "                   'residential zone', \n",
        "                   'highway access'\n",
        "                    ,'tax'])\n",
        "\n",
        "  reg_coef_Lasso=reg_coef_Lasso.append(df5,ignore_index=True)\n",
        "  "
      ],
      "execution_count": 159,
      "outputs": [
        {
          "output_type": "stream",
          "text": [
            "[-0.01862745  0.03492301 -0.          0.         -0.          0.\n",
            "  0.03679506 -0.13563556  0.10962638 -0.01040806 -0.72331012  0.00572906\n",
            " -0.79324229]\n",
            "[-0.          0.03438163 -0.          0.          0.          0.\n",
            "  0.03905923 -0.          0.00860482 -0.00736069 -0.47097901  0.00494431\n",
            " -0.78653034]\n",
            "[-0.          0.03965108 -0.          0.          0.          0.\n",
            "  0.03706659 -0.          0.         -0.00849255 -0.21079256  0.00464294\n",
            " -0.76847208]\n",
            "[-0.          0.04348067 -0.          0.          0.          0.\n",
            "  0.03405137 -0.          0.         -0.00977287 -0.          0.00450747\n",
            " -0.74609111]\n",
            "[-0.          0.04064836 -0.          0.          0.          0.\n",
            "  0.0263982  -0.          0.         -0.00998748 -0.          0.00485845\n",
            " -0.7075322 ]\n",
            "[-0.          0.03778484 -0.          0.          0.          0.\n",
            "  0.01873491 -0.          0.         -0.01020324 -0.          0.00521184\n",
            " -0.6689687 ]\n",
            "[-0.          0.03492124 -0.          0.          0.          0.\n",
            "  0.01107172 -0.          0.         -0.01041898 -0.          0.00556521\n",
            " -0.6304059 ]\n",
            "[-0.          0.03205753 -0.          0.          0.          0.\n",
            "  0.00340868 -0.          0.         -0.01063469 -0.          0.00591856\n",
            " -0.59184406]\n",
            "[-0.          0.0310504  -0.          0.          0.          0.\n",
            "  0.         -0.          0.         -0.01099723 -0.          0.00623475\n",
            " -0.55917947]\n",
            "[-0.          0.03153289 -0.          0.          0.          0.\n",
            "  0.         -0.          0.         -0.0114802  -0.          0.00652617\n",
            " -0.53118009]\n",
            "[-0.          0.03202249 -0.          0.          0.          0.\n",
            "  0.         -0.          0.         -0.01196283 -0.          0.00681651\n",
            " -0.50317962]\n",
            "[-0.          0.03251209 -0.          0.          0.          0.\n",
            "  0.         -0.          0.         -0.01244545 -0.          0.00710684\n",
            " -0.47517915]\n",
            "[-0.          0.03300169 -0.          0.          0.          0.\n",
            "  0.         -0.          0.         -0.01292807 -0.          0.00739718\n",
            " -0.44717867]\n",
            "[-0.          0.03349129 -0.          0.         -0.          0.\n",
            " -0.         -0.          0.         -0.0134107  -0.          0.00768751\n",
            " -0.41917819]\n",
            "[-0.          0.03398089 -0.          0.         -0.          0.\n",
            " -0.         -0.          0.         -0.01389332 -0.          0.00797785\n",
            " -0.39117772]\n",
            "[-0.          0.03447049 -0.          0.         -0.          0.\n",
            " -0.         -0.          0.         -0.01437595 -0.          0.00826819\n",
            " -0.36317724]\n",
            "[-0.          0.03496009 -0.          0.         -0.          0.\n",
            " -0.         -0.          0.         -0.01485857 -0.          0.00855852\n",
            " -0.33517677]\n",
            "[-0.          0.03544969 -0.          0.         -0.          0.\n",
            " -0.         -0.          0.         -0.0153412  -0.          0.00884886\n",
            " -0.30717629]\n",
            "[-0.          0.03593933 -0.          0.         -0.          0.\n",
            " -0.         -0.          0.         -0.01582382 -0.          0.00913918\n",
            " -0.27917579]\n",
            "[-0.          0.03642906 -0.          0.         -0.          0.\n",
            " -0.         -0.          0.         -0.01630646 -0.          0.00942947\n",
            " -0.25117521]\n",
            "[-0.          0.03691881 -0.          0.         -0.          0.\n",
            " -0.         -0.          0.         -0.01678909 -0.          0.00971976\n",
            " -0.22317461]\n",
            "[-0.          0.03740846 -0.          0.         -0.          0.\n",
            " -0.         -0.          0.         -0.01727172 -0.          0.01001007\n",
            " -0.19517409]\n",
            "[-0.          0.03789796 -0.          0.         -0.          0.\n",
            " -0.         -0.          0.         -0.01775434 -0.          0.01030042\n",
            " -0.16717372]\n",
            "[-0.          0.03838745 -0.          0.         -0.          0.\n",
            " -0.         -0.          0.         -0.01823697 -0.          0.01059077\n",
            " -0.13917336]\n",
            "[-0.          0.03887694 -0.          0.         -0.          0.\n",
            " -0.         -0.          0.         -0.01871959 -0.          0.01088111\n",
            " -0.11117299]\n",
            "[-0.          0.03936644 -0.          0.         -0.          0.\n",
            " -0.         -0.          0.         -0.01920222 -0.          0.01117146\n",
            " -0.08317262]\n",
            "[-0.          0.03985593 -0.          0.         -0.          0.\n",
            " -0.         -0.          0.         -0.01968484 -0.          0.01146181\n",
            " -0.05517226]\n",
            "[-0.          0.04034538 -0.          0.         -0.          0.\n",
            " -0.         -0.          0.         -0.02016747 -0.          0.01175216\n",
            " -0.02717185]\n",
            "[-0.          0.04076147 -0.          0.         -0.          0.\n",
            " -0.         -0.          0.         -0.02063809 -0.          0.01203079\n",
            " -0.        ]\n",
            "[-0.          0.03886049 -0.          0.         -0.          0.\n",
            " -0.         -0.          0.         -0.02071297 -0.          0.01191897\n",
            " -0.        ]\n",
            "[-0.          0.03695684 -0.          0.         -0.          0.\n",
            " -0.         -0.          0.         -0.02078821 -0.          0.01180697\n",
            " -0.        ]\n",
            "[-0.          0.03505319 -0.          0.         -0.          0.\n",
            " -0.         -0.          0.         -0.02086346 -0.          0.01169498\n",
            " -0.        ]\n",
            "[-0.          0.03314953 -0.          0.         -0.          0.\n",
            " -0.         -0.          0.         -0.0209387  -0.          0.01158298\n",
            " -0.        ]\n",
            "[-0.          0.03124588 -0.          0.         -0.          0.\n",
            " -0.         -0.          0.         -0.02101395 -0.          0.01147098\n",
            " -0.        ]\n",
            "[-0.          0.02934222 -0.          0.         -0.          0.\n",
            " -0.         -0.          0.         -0.02108919 -0.          0.01135899\n",
            " -0.        ]\n",
            "[-0.          0.02743857 -0.          0.         -0.          0.\n",
            " -0.         -0.          0.         -0.02116443 -0.          0.01124699\n",
            " -0.        ]\n",
            "[-0.          0.02553493 -0.          0.         -0.          0.\n",
            " -0.         -0.          0.         -0.02123967 -0.          0.011135\n",
            " -0.        ]\n",
            "[-0.          0.02363129 -0.          0.         -0.          0.\n",
            " -0.         -0.          0.         -0.02131491 -0.          0.01102301\n",
            " -0.        ]\n",
            "[-0.          0.02172766 -0.          0.         -0.          0.\n",
            " -0.         -0.          0.         -0.02139015 -0.          0.01091102\n",
            " -0.        ]\n",
            "[-0.          0.01982402 -0.          0.         -0.          0.\n",
            " -0.         -0.          0.         -0.02146538 -0.          0.01079903\n",
            " -0.        ]\n",
            "[-0.          0.01792039 -0.          0.         -0.          0.\n",
            " -0.         -0.          0.         -0.02154062 -0.          0.01068703\n",
            " -0.        ]\n",
            "[-0.          0.01601675 -0.          0.         -0.          0.\n",
            " -0.         -0.          0.         -0.02161586 -0.          0.01057504\n",
            " -0.        ]\n",
            "[-0.          0.01411309 -0.          0.         -0.          0.\n",
            " -0.         -0.          0.         -0.0216911  -0.          0.01046305\n",
            " -0.        ]\n",
            "[-0.          0.01220942 -0.          0.         -0.          0.\n",
            " -0.         -0.          0.         -0.02176634 -0.          0.01035106\n",
            " -0.        ]\n",
            "[-0.          0.01030576 -0.          0.         -0.          0.\n",
            " -0.         -0.          0.         -0.02184158 -0.          0.01023907\n",
            " -0.        ]\n",
            "[-0.          0.00840209 -0.          0.         -0.          0.\n",
            " -0.         -0.          0.         -0.02191682 -0.          0.01012707\n",
            " -0.        ]\n",
            "[-0.          0.00649843 -0.          0.         -0.          0.\n",
            " -0.          0.          0.         -0.02199206 -0.          0.01001508\n",
            " -0.        ]\n",
            "[-0.          0.00459476 -0.          0.         -0.          0.\n",
            " -0.          0.          0.         -0.0220673  -0.          0.00990309\n",
            " -0.        ]\n",
            "[-0.          0.0026911  -0.          0.         -0.          0.\n",
            " -0.          0.          0.         -0.02214254 -0.          0.0097911\n",
            " -0.        ]\n",
            "[-0.          0.0007874  -0.          0.         -0.          0.\n",
            " -0.          0.          0.         -0.02221778 -0.          0.0096791\n",
            " -0.        ]\n",
            "[-0.          0.         -0.          0.         -0.          0.\n",
            " -0.          0.          0.         -0.02224499 -0.          0.00955578\n",
            " -0.        ]\n",
            "[-0.          0.         -0.          0.         -0.          0.\n",
            " -0.          0.          0.         -0.02223756 -0.          0.00942509\n",
            " -0.        ]\n",
            "[-0.          0.         -0.          0.         -0.          0.\n",
            " -0.          0.          0.         -0.02223013 -0.          0.0092944\n",
            " -0.        ]\n",
            "[-0.          0.         -0.          0.         -0.          0.\n",
            " -0.          0.          0.         -0.0222227  -0.          0.00916372\n",
            " -0.        ]\n",
            "[-0.          0.         -0.          0.         -0.          0.\n",
            " -0.          0.          0.         -0.02221527 -0.          0.00903303\n",
            " -0.        ]\n",
            "[-0.          0.         -0.          0.         -0.          0.\n",
            " -0.          0.          0.         -0.02220784 -0.          0.00890234\n",
            " -0.        ]\n",
            "[-0.          0.         -0.          0.         -0.          0.\n",
            " -0.          0.          0.         -0.0222004  -0.          0.00877165\n",
            " -0.        ]\n",
            "[-0.          0.         -0.          0.         -0.          0.\n",
            " -0.          0.          0.         -0.02219297 -0.          0.00864096\n",
            " -0.        ]\n",
            "[-0.          0.         -0.          0.         -0.          0.\n",
            " -0.          0.          0.         -0.02218554 -0.          0.00851027\n",
            " -0.        ]\n",
            "[-0.          0.         -0.          0.         -0.          0.\n",
            " -0.          0.          0.         -0.02217811 -0.          0.00837958\n",
            " -0.        ]\n",
            "[-0.          0.         -0.          0.         -0.          0.\n",
            " -0.          0.          0.         -0.02217068 -0.          0.00824889\n",
            " -0.        ]\n",
            "[-0.          0.         -0.          0.         -0.          0.\n",
            " -0.          0.          0.         -0.02216325 -0.          0.0081182\n",
            " -0.        ]\n",
            "[-0.          0.         -0.          0.         -0.          0.\n",
            " -0.          0.          0.         -0.02215582 -0.          0.00798751\n",
            " -0.        ]\n",
            "[-0.          0.         -0.          0.         -0.          0.\n",
            " -0.          0.          0.         -0.02214839 -0.          0.00785683\n",
            " -0.        ]\n",
            "[-0.          0.         -0.          0.         -0.          0.\n",
            " -0.          0.          0.         -0.02214095 -0.          0.00772614\n",
            " -0.        ]\n",
            "[-0.          0.         -0.          0.         -0.          0.\n",
            " -0.          0.          0.         -0.02213352 -0.          0.00759545\n",
            " -0.        ]\n",
            "[-0.          0.         -0.          0.         -0.          0.\n",
            " -0.          0.          0.         -0.02212609 -0.          0.00746476\n",
            " -0.        ]\n",
            "[-0.          0.         -0.          0.         -0.          0.\n",
            " -0.          0.          0.         -0.02211866 -0.          0.00733407\n",
            " -0.        ]\n",
            "[-0.          0.         -0.          0.         -0.          0.\n",
            " -0.          0.          0.         -0.02211123 -0.          0.00720338\n",
            " -0.        ]\n",
            "[-0.          0.         -0.          0.         -0.          0.\n",
            " -0.          0.          0.         -0.0221038  -0.          0.00707269\n",
            " -0.        ]\n",
            "[-0.          0.         -0.          0.         -0.          0.\n",
            " -0.          0.          0.         -0.02209637 -0.          0.006942\n",
            " -0.        ]\n",
            "[-0.          0.         -0.          0.         -0.          0.\n",
            " -0.          0.          0.         -0.02208894 -0.          0.00681131\n",
            " -0.        ]\n",
            "[-0.          0.         -0.          0.         -0.          0.\n",
            " -0.          0.          0.         -0.0220815  -0.          0.00668062\n",
            " -0.        ]\n",
            "[-0.          0.         -0.          0.         -0.          0.\n",
            " -0.          0.          0.         -0.02207407 -0.          0.00654993\n",
            " -0.        ]\n",
            "[-0.          0.         -0.          0.         -0.          0.\n",
            " -0.          0.          0.         -0.02206664 -0.          0.00641925\n",
            " -0.        ]\n",
            "[-0.          0.         -0.          0.         -0.          0.\n",
            " -0.          0.          0.         -0.02205921 -0.          0.00628856\n",
            " -0.        ]\n",
            "[-0.          0.         -0.          0.         -0.          0.\n",
            " -0.          0.          0.         -0.02205178 -0.          0.00615787\n",
            " -0.        ]\n",
            "[-0.          0.         -0.          0.         -0.          0.\n",
            " -0.          0.          0.         -0.02204435 -0.          0.00602718\n",
            " -0.        ]\n",
            "[-0.          0.         -0.          0.         -0.          0.\n",
            " -0.          0.          0.         -0.02203692 -0.          0.00589649\n",
            " -0.        ]\n",
            "[-0.          0.         -0.          0.         -0.          0.\n",
            " -0.          0.          0.         -0.02202949 -0.          0.0057658\n",
            " -0.        ]\n",
            "[-0.          0.         -0.          0.         -0.          0.\n",
            " -0.          0.          0.         -0.02202205 -0.          0.00563511\n",
            " -0.        ]\n",
            "[-0.          0.         -0.          0.         -0.          0.\n",
            " -0.          0.          0.         -0.02201462 -0.          0.00550442\n",
            " -0.        ]\n",
            "[-0.          0.         -0.          0.         -0.          0.\n",
            " -0.          0.          0.         -0.02200719 -0.          0.00537373\n",
            " -0.        ]\n",
            "[-0.          0.         -0.          0.         -0.          0.\n",
            " -0.          0.          0.         -0.02199976 -0.          0.00524304\n",
            " -0.        ]\n",
            "[-0.          0.         -0.          0.         -0.          0.\n",
            " -0.          0.         -0.         -0.02199233 -0.          0.00511235\n",
            " -0.        ]\n",
            "[-0.          0.         -0.          0.         -0.          0.\n",
            " -0.          0.         -0.         -0.0219849  -0.          0.00498167\n",
            " -0.        ]\n",
            "[-0.          0.         -0.          0.         -0.          0.\n",
            " -0.          0.         -0.         -0.02197747 -0.          0.00485098\n",
            " -0.        ]\n",
            "[-0.          0.         -0.          0.         -0.          0.\n",
            " -0.          0.         -0.         -0.02197004 -0.          0.00472029\n",
            " -0.        ]\n",
            "[-0.          0.         -0.          0.         -0.          0.\n",
            " -0.          0.         -0.         -0.02196261 -0.          0.0045896\n",
            " -0.        ]\n",
            "[-0.          0.         -0.          0.         -0.          0.\n",
            " -0.          0.         -0.         -0.02195518 -0.          0.00445891\n",
            " -0.        ]\n",
            "[-0.          0.         -0.          0.         -0.          0.\n",
            " -0.          0.         -0.         -0.02194774 -0.          0.00432822\n",
            " -0.        ]\n",
            "[-0.          0.         -0.          0.         -0.          0.\n",
            " -0.          0.         -0.         -0.02194031 -0.          0.00419753\n",
            " -0.        ]\n",
            "[-0.          0.         -0.          0.         -0.          0.\n",
            " -0.          0.         -0.         -0.02193288 -0.          0.00406684\n",
            " -0.        ]\n",
            "[-0.          0.         -0.          0.         -0.          0.\n",
            " -0.          0.         -0.         -0.02192545 -0.          0.00393615\n",
            " -0.        ]\n",
            "[-0.          0.         -0.          0.         -0.          0.\n",
            " -0.          0.         -0.         -0.02191802 -0.          0.00380546\n",
            " -0.        ]\n",
            "[-0.          0.         -0.          0.         -0.          0.\n",
            " -0.          0.         -0.         -0.02191059 -0.          0.00367477\n",
            " -0.        ]\n",
            "[-0.          0.         -0.          0.         -0.          0.\n",
            " -0.          0.         -0.         -0.02190316 -0.          0.00354408\n",
            " -0.        ]\n",
            "[-0.          0.         -0.          0.         -0.          0.\n",
            " -0.          0.         -0.         -0.02189573 -0.          0.00341339\n",
            " -0.        ]\n",
            "[-0.         0.        -0.         0.        -0.         0.\n",
            " -0.         0.        -0.        -0.0218883 -0.         0.0032827\n",
            " -0.       ]\n",
            "[-0.          0.         -0.          0.         -0.          0.\n",
            " -0.          0.         -0.         -0.02188087 -0.          0.00315201\n",
            " -0.        ]\n",
            "[-0.          0.         -0.          0.         -0.          0.\n",
            " -0.          0.         -0.         -0.02187344 -0.          0.00302132\n",
            " -0.        ]\n",
            "[-0.          0.         -0.          0.         -0.          0.\n",
            " -0.          0.         -0.         -0.02186601 -0.          0.00289063\n",
            " -0.        ]\n",
            "[-0.          0.         -0.          0.         -0.          0.\n",
            " -0.          0.         -0.         -0.02185858 -0.          0.00275994\n",
            " -0.        ]\n",
            "[-0.          0.         -0.          0.         -0.          0.\n",
            " -0.          0.         -0.         -0.02185116 -0.          0.00262925\n",
            " -0.        ]\n",
            "[-0.          0.         -0.          0.         -0.          0.\n",
            " -0.          0.         -0.         -0.02184408 -0.          0.00249826\n",
            " -0.        ]\n",
            "[-0.          0.         -0.          0.         -0.          0.\n",
            " -0.          0.         -0.         -0.02183664 -0.          0.00236758\n",
            " -0.        ]\n",
            "[-0.          0.         -0.          0.         -0.          0.\n",
            " -0.          0.         -0.         -0.02182919 -0.          0.00223691\n",
            " -0.        ]\n",
            "[-0.          0.         -0.          0.         -0.          0.\n",
            " -0.          0.         -0.         -0.02182175 -0.          0.00210623\n",
            " -0.        ]\n",
            "[-0.          0.         -0.          0.         -0.          0.\n",
            " -0.          0.         -0.         -0.0218143  -0.          0.00197556\n",
            " -0.        ]\n",
            "[-0.          0.         -0.          0.         -0.          0.\n",
            " -0.          0.         -0.         -0.02180685 -0.          0.00184488\n",
            " -0.        ]\n",
            "[-0.          0.         -0.          0.         -0.          0.\n",
            " -0.          0.         -0.         -0.02179941 -0.          0.0017142\n",
            " -0.        ]\n",
            "[-0.          0.         -0.          0.         -0.          0.\n",
            " -0.          0.         -0.         -0.02179196 -0.          0.00158353\n",
            " -0.        ]\n",
            "[-0.          0.         -0.          0.         -0.          0.\n",
            " -0.          0.         -0.         -0.02178451 -0.          0.00145285\n",
            " -0.        ]\n",
            "[-0.          0.         -0.          0.         -0.          0.\n",
            " -0.          0.         -0.         -0.02177707 -0.          0.00132217\n",
            " -0.        ]\n",
            "[-0.          0.         -0.          0.         -0.          0.\n",
            " -0.          0.         -0.         -0.02176962 -0.          0.0011915\n",
            " -0.        ]\n",
            "[-0.          0.         -0.          0.         -0.          0.\n",
            " -0.          0.         -0.         -0.02176217 -0.          0.00106082\n",
            " -0.        ]\n",
            "[-0.          0.         -0.          0.         -0.          0.\n",
            " -0.          0.         -0.         -0.02175473 -0.          0.00093014\n",
            " -0.        ]\n",
            "[-0.          0.         -0.          0.         -0.          0.\n",
            " -0.          0.         -0.         -0.02174728 -0.          0.00079947\n",
            " -0.        ]\n",
            "[-0.          0.         -0.          0.         -0.          0.\n",
            " -0.          0.         -0.         -0.02173983 -0.          0.00066879\n",
            " -0.        ]\n",
            "[-0.          0.         -0.          0.         -0.          0.\n",
            " -0.          0.         -0.         -0.02173239 -0.          0.00053811\n",
            " -0.        ]\n",
            "[-0.          0.         -0.          0.         -0.          0.\n",
            " -0.          0.         -0.         -0.02172528 -0.          0.00040716\n",
            " -0.        ]\n",
            "[-0.          0.         -0.          0.         -0.          0.\n",
            " -0.          0.         -0.         -0.02171773 -0.          0.00027657\n",
            " -0.        ]\n",
            "[-0.          0.         -0.          0.         -0.          0.\n",
            " -0.          0.         -0.         -0.02171017 -0.          0.00014598\n",
            " -0.        ]\n",
            "[-0.00000000e+00  0.00000000e+00 -0.00000000e+00  0.00000000e+00\n",
            " -0.00000000e+00  0.00000000e+00 -0.00000000e+00  0.00000000e+00\n",
            " -0.00000000e+00 -2.17026907e-02 -0.00000000e+00  1.53337428e-05\n",
            " -0.00000000e+00]\n",
            "[-0.          0.         -0.          0.         -0.          0.\n",
            " -0.          0.         -0.         -0.02167133 -0.          0.\n",
            " -0.        ]\n",
            "[-0.          0.         -0.          0.         -0.          0.\n",
            " -0.          0.         -0.         -0.02163687 -0.          0.\n",
            " -0.        ]\n",
            "[-0.          0.         -0.          0.         -0.          0.\n",
            " -0.          0.         -0.         -0.02160241 -0.          0.\n",
            " -0.        ]\n",
            "[-0.          0.         -0.          0.         -0.          0.\n",
            " -0.          0.         -0.         -0.02156795 -0.          0.\n",
            " -0.        ]\n",
            "[-0.          0.         -0.          0.         -0.          0.\n",
            " -0.          0.         -0.         -0.02153349 -0.          0.\n",
            " -0.        ]\n",
            "[-0.          0.         -0.          0.         -0.          0.\n",
            " -0.          0.         -0.         -0.02149903 -0.          0.\n",
            " -0.        ]\n",
            "[-0.          0.         -0.          0.         -0.          0.\n",
            " -0.          0.         -0.         -0.02146457 -0.          0.\n",
            " -0.        ]\n",
            "[-0.          0.         -0.          0.         -0.          0.\n",
            " -0.          0.         -0.         -0.02143011 -0.          0.\n",
            " -0.        ]\n",
            "[-0.          0.         -0.          0.         -0.          0.\n",
            " -0.          0.         -0.         -0.02139565 -0.          0.\n",
            " -0.        ]\n",
            "[-0.          0.         -0.          0.         -0.          0.\n",
            " -0.          0.         -0.         -0.02136119 -0.          0.\n",
            " -0.        ]\n",
            "[-0.          0.         -0.          0.         -0.          0.\n",
            " -0.          0.         -0.         -0.02132673 -0.          0.\n",
            " -0.        ]\n",
            "[-0.          0.         -0.          0.         -0.          0.\n",
            " -0.          0.         -0.         -0.02129227 -0.          0.\n",
            " -0.        ]\n",
            "[-0.          0.         -0.          0.         -0.          0.\n",
            " -0.          0.         -0.         -0.02125781 -0.          0.\n",
            " -0.        ]\n",
            "[-0.          0.         -0.          0.         -0.          0.\n",
            " -0.          0.         -0.         -0.02122335 -0.          0.\n",
            " -0.        ]\n",
            "[-0.          0.         -0.          0.         -0.          0.\n",
            " -0.          0.         -0.         -0.02118889 -0.          0.\n",
            " -0.        ]\n",
            "[-0.          0.         -0.          0.         -0.          0.\n",
            " -0.          0.         -0.         -0.02115443 -0.          0.\n",
            " -0.        ]\n",
            "[-0.          0.         -0.          0.         -0.          0.\n",
            " -0.          0.         -0.         -0.02111997 -0.          0.\n",
            " -0.        ]\n",
            "[-0.          0.         -0.          0.         -0.          0.\n",
            " -0.          0.         -0.         -0.02108551 -0.          0.\n",
            " -0.        ]\n",
            "[-0.          0.         -0.          0.         -0.          0.\n",
            " -0.          0.         -0.         -0.02105106 -0.          0.\n",
            " -0.        ]\n",
            "[-0.         0.        -0.         0.        -0.         0.\n",
            " -0.         0.        -0.        -0.0210166 -0.         0.\n",
            " -0.       ]\n",
            "[-0.          0.         -0.          0.         -0.          0.\n",
            " -0.          0.         -0.         -0.02098214 -0.          0.\n",
            " -0.        ]\n",
            "[-0.          0.         -0.          0.         -0.          0.\n",
            " -0.          0.         -0.         -0.02094768 -0.          0.\n",
            " -0.        ]\n",
            "[-0.          0.         -0.          0.         -0.          0.\n",
            " -0.          0.         -0.         -0.02091322 -0.          0.\n",
            " -0.        ]\n",
            "[-0.          0.         -0.          0.         -0.          0.\n",
            " -0.          0.         -0.         -0.02087876 -0.          0.\n",
            " -0.        ]\n",
            "[-0.         0.        -0.         0.        -0.         0.\n",
            " -0.         0.        -0.        -0.0208443 -0.         0.\n",
            " -0.       ]\n",
            "[-0.          0.         -0.          0.         -0.          0.\n",
            " -0.          0.         -0.         -0.02080984 -0.          0.\n",
            " -0.        ]\n",
            "[-0.          0.         -0.          0.         -0.          0.\n",
            " -0.          0.         -0.         -0.02077538 -0.          0.\n",
            " -0.        ]\n",
            "[-0.          0.         -0.          0.         -0.          0.\n",
            " -0.          0.         -0.         -0.02074092 -0.          0.\n",
            " -0.        ]\n",
            "[-0.          0.         -0.          0.         -0.          0.\n",
            " -0.          0.         -0.         -0.02070646 -0.          0.\n",
            " -0.        ]\n",
            "[-0.        0.       -0.        0.       -0.        0.       -0.\n",
            "  0.       -0.       -0.020672 -0.        0.       -0.      ]\n",
            "[-0.          0.         -0.          0.         -0.          0.\n",
            " -0.          0.         -0.         -0.02063754 -0.          0.\n",
            " -0.        ]\n",
            "[-0.          0.         -0.          0.         -0.          0.\n",
            " -0.          0.         -0.         -0.02060308 -0.          0.\n",
            " -0.        ]\n",
            "[-0.          0.         -0.          0.         -0.          0.\n",
            " -0.          0.         -0.         -0.02056862 -0.          0.\n",
            " -0.        ]\n",
            "[-0.          0.         -0.          0.         -0.          0.\n",
            " -0.          0.         -0.         -0.02053416 -0.          0.\n",
            " -0.        ]\n",
            "[-0.         0.        -0.         0.        -0.         0.\n",
            " -0.         0.        -0.        -0.0204997 -0.         0.\n",
            " -0.       ]\n",
            "[-0.          0.         -0.          0.         -0.          0.\n",
            " -0.          0.         -0.         -0.02046524 -0.          0.\n",
            " -0.        ]\n",
            "[-0.          0.         -0.          0.         -0.          0.\n",
            " -0.          0.         -0.         -0.02043078 -0.          0.\n",
            " -0.        ]\n",
            "[-0.          0.         -0.          0.         -0.          0.\n",
            " -0.          0.         -0.         -0.02039632 -0.          0.\n",
            " -0.        ]\n",
            "[-0.          0.         -0.          0.         -0.          0.\n",
            " -0.          0.         -0.         -0.02036187 -0.          0.\n",
            " -0.        ]\n",
            "[-0.          0.         -0.          0.         -0.          0.\n",
            " -0.          0.         -0.         -0.02032741 -0.          0.\n",
            " -0.        ]\n",
            "[-0.          0.         -0.          0.         -0.          0.\n",
            " -0.          0.         -0.         -0.02029295 -0.          0.\n",
            " -0.        ]\n",
            "[-0.          0.         -0.          0.         -0.          0.\n",
            " -0.          0.         -0.         -0.02025849 -0.          0.\n",
            " -0.        ]\n",
            "[-0.          0.         -0.          0.         -0.          0.\n",
            " -0.          0.         -0.         -0.02022403 -0.          0.\n",
            " -0.        ]\n",
            "[-0.          0.         -0.          0.         -0.          0.\n",
            " -0.          0.         -0.         -0.02018957 -0.          0.\n",
            " -0.        ]\n",
            "[-0.          0.         -0.          0.         -0.          0.\n",
            " -0.          0.         -0.         -0.02015511 -0.          0.\n",
            " -0.        ]\n",
            "[-0.          0.         -0.          0.         -0.          0.\n",
            " -0.          0.         -0.         -0.02012065 -0.          0.\n",
            " -0.        ]\n",
            "[-0.          0.         -0.          0.         -0.          0.\n",
            " -0.          0.         -0.         -0.02008619 -0.          0.\n",
            " -0.        ]\n",
            "[-0.          0.         -0.          0.         -0.          0.\n",
            " -0.          0.         -0.         -0.02005173 -0.          0.\n",
            " -0.        ]\n",
            "[-0.          0.         -0.          0.         -0.          0.\n",
            " -0.          0.         -0.         -0.02001727 -0.          0.\n",
            " -0.        ]\n",
            "[-0.          0.         -0.          0.         -0.          0.\n",
            " -0.          0.         -0.         -0.01998281 -0.          0.\n",
            " -0.        ]\n",
            "[-0.          0.         -0.          0.         -0.          0.\n",
            " -0.          0.         -0.         -0.01994835 -0.          0.\n",
            " -0.        ]\n",
            "[-0.          0.         -0.          0.         -0.          0.\n",
            " -0.          0.         -0.         -0.01991389 -0.          0.\n",
            " -0.        ]\n",
            "[-0.          0.         -0.          0.         -0.          0.\n",
            " -0.          0.         -0.         -0.01987943 -0.          0.\n",
            " -0.        ]\n",
            "[-0.          0.         -0.          0.         -0.          0.\n",
            " -0.          0.         -0.         -0.01984497 -0.          0.\n",
            " -0.        ]\n",
            "[-0.          0.         -0.          0.         -0.          0.\n",
            " -0.          0.         -0.         -0.01981051 -0.          0.\n",
            " -0.        ]\n",
            "[-0.          0.         -0.          0.         -0.          0.\n",
            " -0.          0.         -0.         -0.01977605 -0.          0.\n",
            " -0.        ]\n",
            "[-0.          0.         -0.          0.         -0.          0.\n",
            " -0.          0.         -0.         -0.01974159 -0.          0.\n",
            " -0.        ]\n",
            "[-0.          0.         -0.          0.         -0.          0.\n",
            " -0.          0.         -0.         -0.01970713 -0.          0.\n",
            " -0.        ]\n",
            "[-0.          0.         -0.          0.         -0.          0.\n",
            " -0.          0.         -0.         -0.01967267 -0.          0.\n",
            " -0.        ]\n",
            "[-0.          0.         -0.          0.         -0.          0.\n",
            " -0.          0.         -0.         -0.01963822 -0.          0.\n",
            " -0.        ]\n",
            "[-0.          0.         -0.          0.         -0.          0.\n",
            " -0.          0.         -0.         -0.01960376 -0.          0.\n",
            " -0.        ]\n",
            "[-0.         0.        -0.         0.        -0.         0.\n",
            " -0.         0.        -0.        -0.0195693 -0.         0.\n",
            " -0.       ]\n",
            "[-0.          0.         -0.          0.         -0.          0.\n",
            " -0.          0.         -0.         -0.01953484 -0.          0.\n",
            " -0.        ]\n",
            "[-0.          0.         -0.          0.         -0.          0.\n",
            " -0.          0.         -0.         -0.01950038 -0.          0.\n",
            " -0.        ]\n",
            "[-0.          0.         -0.          0.         -0.          0.\n",
            " -0.          0.         -0.         -0.01946592 -0.          0.\n",
            " -0.        ]\n",
            "[-0.          0.         -0.          0.         -0.          0.\n",
            " -0.          0.         -0.         -0.01943146 -0.          0.\n",
            " -0.        ]\n",
            "[-0.        0.       -0.        0.       -0.        0.       -0.\n",
            "  0.       -0.       -0.019397 -0.        0.       -0.      ]\n",
            "[-0.          0.         -0.          0.         -0.          0.\n",
            " -0.          0.         -0.         -0.01936254 -0.          0.\n",
            " -0.        ]\n",
            "[-0.          0.         -0.          0.         -0.          0.\n",
            " -0.          0.         -0.         -0.01932808 -0.          0.\n",
            " -0.        ]\n",
            "[-0.          0.         -0.          0.         -0.          0.\n",
            " -0.          0.         -0.         -0.01929362 -0.          0.\n",
            " -0.        ]\n",
            "[-0.          0.         -0.          0.         -0.          0.\n",
            " -0.          0.         -0.         -0.01925916 -0.          0.\n",
            " -0.        ]\n",
            "[-0.         0.        -0.         0.        -0.         0.\n",
            " -0.         0.        -0.        -0.0192247 -0.         0.\n",
            " -0.       ]\n",
            "[-0.          0.         -0.          0.         -0.          0.\n",
            " -0.          0.         -0.         -0.01919024 -0.          0.\n",
            " -0.        ]\n",
            "[-0.          0.         -0.          0.         -0.          0.\n",
            " -0.          0.         -0.         -0.01915578 -0.          0.\n",
            " -0.        ]\n"
          ],
          "name": "stdout"
        }
      ]
    },
    {
      "cell_type": "code",
      "metadata": {
        "id": "JnUOEKRQZmgh",
        "colab_type": "code",
        "outputId": "81f9eef4-0174-4cee-d662-700dea72d2b5",
        "colab": {
          "base_uri": "https://localhost:8080/",
          "height": 404
        }
      },
      "source": [
        "reg_coef_Lasso"
      ],
      "execution_count": 160,
      "outputs": [
        {
          "output_type": "execute_result",
          "data": {
            "text/html": [
              "<div>\n",
              "<style scoped>\n",
              "    .dataframe tbody tr th:only-of-type {\n",
              "        vertical-align: middle;\n",
              "    }\n",
              "\n",
              "    .dataframe tbody tr th {\n",
              "        vertical-align: top;\n",
              "    }\n",
              "\n",
              "    .dataframe thead th {\n",
              "        text-align: right;\n",
              "    }\n",
              "</style>\n",
              "<table border=\"1\" class=\"dataframe\">\n",
              "  <thead>\n",
              "    <tr style=\"text-align: right;\">\n",
              "      <th></th>\n",
              "      <th>crime rate</th>\n",
              "      <th>room</th>\n",
              "      <th>residential zone</th>\n",
              "      <th>highway access</th>\n",
              "      <th>tax</th>\n",
              "    </tr>\n",
              "  </thead>\n",
              "  <tbody>\n",
              "    <tr>\n",
              "      <th>0</th>\n",
              "      <td>-0.018627</td>\n",
              "      <td>0.0</td>\n",
              "      <td>0.034923</td>\n",
              "      <td>0.109626</td>\n",
              "      <td>-0.010408</td>\n",
              "    </tr>\n",
              "    <tr>\n",
              "      <th>1</th>\n",
              "      <td>-0.000000</td>\n",
              "      <td>0.0</td>\n",
              "      <td>0.034382</td>\n",
              "      <td>0.008605</td>\n",
              "      <td>-0.007361</td>\n",
              "    </tr>\n",
              "    <tr>\n",
              "      <th>2</th>\n",
              "      <td>-0.000000</td>\n",
              "      <td>0.0</td>\n",
              "      <td>0.039651</td>\n",
              "      <td>0.000000</td>\n",
              "      <td>-0.008493</td>\n",
              "    </tr>\n",
              "    <tr>\n",
              "      <th>3</th>\n",
              "      <td>-0.000000</td>\n",
              "      <td>0.0</td>\n",
              "      <td>0.043481</td>\n",
              "      <td>0.000000</td>\n",
              "      <td>-0.009773</td>\n",
              "    </tr>\n",
              "    <tr>\n",
              "      <th>4</th>\n",
              "      <td>-0.000000</td>\n",
              "      <td>0.0</td>\n",
              "      <td>0.040648</td>\n",
              "      <td>0.000000</td>\n",
              "      <td>-0.009987</td>\n",
              "    </tr>\n",
              "    <tr>\n",
              "      <th>...</th>\n",
              "      <td>...</td>\n",
              "      <td>...</td>\n",
              "      <td>...</td>\n",
              "      <td>...</td>\n",
              "      <td>...</td>\n",
              "    </tr>\n",
              "    <tr>\n",
              "      <th>193</th>\n",
              "      <td>-0.000000</td>\n",
              "      <td>0.0</td>\n",
              "      <td>0.000000</td>\n",
              "      <td>-0.000000</td>\n",
              "      <td>-0.019294</td>\n",
              "    </tr>\n",
              "    <tr>\n",
              "      <th>194</th>\n",
              "      <td>-0.000000</td>\n",
              "      <td>0.0</td>\n",
              "      <td>0.000000</td>\n",
              "      <td>-0.000000</td>\n",
              "      <td>-0.019259</td>\n",
              "    </tr>\n",
              "    <tr>\n",
              "      <th>195</th>\n",
              "      <td>-0.000000</td>\n",
              "      <td>0.0</td>\n",
              "      <td>0.000000</td>\n",
              "      <td>-0.000000</td>\n",
              "      <td>-0.019225</td>\n",
              "    </tr>\n",
              "    <tr>\n",
              "      <th>196</th>\n",
              "      <td>-0.000000</td>\n",
              "      <td>0.0</td>\n",
              "      <td>0.000000</td>\n",
              "      <td>-0.000000</td>\n",
              "      <td>-0.019190</td>\n",
              "    </tr>\n",
              "    <tr>\n",
              "      <th>197</th>\n",
              "      <td>-0.000000</td>\n",
              "      <td>0.0</td>\n",
              "      <td>0.000000</td>\n",
              "      <td>-0.000000</td>\n",
              "      <td>-0.019156</td>\n",
              "    </tr>\n",
              "  </tbody>\n",
              "</table>\n",
              "<p>198 rows × 5 columns</p>\n",
              "</div>"
            ],
            "text/plain": [
              "     crime rate  room  residential zone  highway access       tax\n",
              "0     -0.018627   0.0          0.034923        0.109626 -0.010408\n",
              "1     -0.000000   0.0          0.034382        0.008605 -0.007361\n",
              "2     -0.000000   0.0          0.039651        0.000000 -0.008493\n",
              "3     -0.000000   0.0          0.043481        0.000000 -0.009773\n",
              "4     -0.000000   0.0          0.040648        0.000000 -0.009987\n",
              "..          ...   ...               ...             ...       ...\n",
              "193   -0.000000   0.0          0.000000       -0.000000 -0.019294\n",
              "194   -0.000000   0.0          0.000000       -0.000000 -0.019259\n",
              "195   -0.000000   0.0          0.000000       -0.000000 -0.019225\n",
              "196   -0.000000   0.0          0.000000       -0.000000 -0.019190\n",
              "197   -0.000000   0.0          0.000000       -0.000000 -0.019156\n",
              "\n",
              "[198 rows x 5 columns]"
            ]
          },
          "metadata": {
            "tags": []
          },
          "execution_count": 160
        }
      ]
    },
    {
      "cell_type": "code",
      "metadata": {
        "id": "hHp9qYOWZpx_",
        "colab_type": "code",
        "outputId": "752d9637-1fe8-48a8-9c30-092ece253c1d",
        "colab": {
          "base_uri": "https://localhost:8080/",
          "height": 609
        }
      },
      "source": [
        "reg_coef_Lasso.plot.line(figsize=(15,10))"
      ],
      "execution_count": 161,
      "outputs": [
        {
          "output_type": "execute_result",
          "data": {
            "text/plain": [
              "<matplotlib.axes._subplots.AxesSubplot at 0x7fe9edcea4e0>"
            ]
          },
          "metadata": {
            "tags": []
          },
          "execution_count": 161
        },
        {
          "output_type": "display_data",
          "data": {
            "image/png": "[encoded data removed]",
            "text/plain": [
              "<Figure size 1080x720 with 1 Axes>"
            ]
          },
          "metadata": {
            "tags": []
          }
        }
      ]
    },
    {
      "cell_type": "code",
      "metadata": {
        "id": "eEXt2cmyaj4A",
        "colab_type": "code",
        "colab": {}
      },
      "source": [
        ""
      ],
      "execution_count": 0,
      "outputs": []
    },
    {
      "cell_type": "markdown",
      "metadata": {
        "id": "7xpQaAs5akQl",
        "colab_type": "text"
      },
      "source": [
        "Task 4\n"
      ]
    },
    {
      "cell_type": "code",
      "metadata": {
        "id": "lgfbEwIRamAJ",
        "colab_type": "code",
        "colab": {
          "base_uri": "https://localhost:8080/",
          "height": 265
        },
        "outputId": "c1683459-76d6-4278-c12b-6fd0197aefe2"
      },
      "source": [
        "\n",
        "from sklearn.linear_model import LinearRegression\n",
        "OLS_model =LinearRegression(fit_intercept=True,normalize=False,copy_X=True)\n",
        "OLS_model.fit(X_train, Y_train)\n",
        "predicted = OLS_model.predict(X_train)\n",
        "predicted = predicted - Y_train\n",
        "plt.scatter(range(354),predicted,c='b')\n",
        "plt.show('ro')"
      ],
      "execution_count": 162,
      "outputs": [
        {
          "output_type": "display_data",
          "data": {
            "image/png": "[encoded data removed]",
            "text/plain": [
              "<Figure size 432x288 with 1 Axes>"
            ]
          },
          "metadata": {
            "tags": []
          }
        }
      ]
    },
    {
      "cell_type": "code",
      "metadata": {
        "colab_type": "code",
        "id": "VSG0e0XdBqsC",
        "outputId": "c1096241-e604-4cea-bc80-ff5730b222d7",
        "colab": {
          "base_uri": "https://localhost:8080/",
          "height": 861
        }
      },
      "source": [
        "\n",
        "from sklearn.linear_model import Ridge\n",
        "for x in range(1,4,1):\n",
        "  Ridge_model =Ridge(fit_intercept=True,normalize=False,copy_X=True,alpha=x+98*(x-1)+(x-2)*(x-1)/2)\n",
        "  Ridge_model.fit(X_train, Y_train)\n",
        "  predicted = Ridge_model.predict(X_train)\n",
        "  predicted = predicted - Y_train\n",
        "  plt.scatter(range(354),predicted,c='b')\n",
        "  print('Lamda equals ')\n",
        "  print(x+98*(x-1)+(x-2)*(x-1)/2)\n",
        "  plt.show('ro')\n",
        "\n"
      ],
      "execution_count": 163,
      "outputs": [
        {
          "output_type": "stream",
          "text": [
            "Lamda equals \n",
            "1.0\n"
          ],
          "name": "stdout"
        },
        {
          "output_type": "display_data",
          "data": {
            "image/png": "[encoded data removed]",
            "text/plain": [
              "<Figure size 432x288 with 1 Axes>"
            ]
          },
          "metadata": {
            "tags": []
          }
        },
        {
          "output_type": "stream",
          "text": [
            "Lamda equals \n",
            "100.0\n"
          ],
          "name": "stdout"
        },
        {
          "output_type": "display_data",
          "data": {
            "image/png": "[encoded data removed]",
            "text/plain": [
              "<Figure size 432x288 with 1 Axes>"
            ]
          },
          "metadata": {
            "tags": []
          }
        },
        {
          "output_type": "stream",
          "text": [
            "Lamda equals \n",
            "200.0\n"
          ],
          "name": "stdout"
        },
        {
          "output_type": "display_data",
          "data": {
            "image/png": "[encoded data removed]",
            "text/plain": [
              "<Figure size 432x288 with 1 Axes>"
            ]
          },
          "metadata": {
            "tags": []
          }
        }
      ]
    },
    {
      "cell_type": "code",
      "metadata": {
        "id": "vZZNLzRl26js",
        "colab_type": "code",
        "outputId": "8aece49b-1264-469c-efe2-44c48ea0e09c",
        "colab": {
          "base_uri": "https://localhost:8080/",
          "height": 861
        }
      },
      "source": [
        "from sklearn.linear_model import Lasso\n",
        "for x in range(1,4,1):\n",
        "  Lasso_model =Lasso(fit_intercept=True,normalize=False,copy_X=True,alpha=x+98*(x-1)+(x-2)*(x-1)/2)\n",
        "  Lasso_model.fit(X_train, Y_train)\n",
        "  predicted = Lasso_model.predict(X_train)\n",
        "  predicted = predicted - Y_train\n",
        "  plt.scatter(range(354),predicted)\n",
        "  print('Lamda equals ')\n",
        "  print(x+98*(x-1)+(x-2)*(x-1)/2)\n",
        "  plt.show()\n"
      ],
      "execution_count": 164,
      "outputs": [
        {
          "output_type": "stream",
          "text": [
            "Lamda equals \n",
            "1.0\n"
          ],
          "name": "stdout"
        },
        {
          "output_type": "display_data",
          "data": {
            "image/png": "[encoded data removed]",
            "text/plain": [
              "<Figure size 432x288 with 1 Axes>"
            ]
          },
          "metadata": {
            "tags": []
          }
        },
        {
          "output_type": "stream",
          "text": [
            "Lamda equals \n",
            "100.0\n"
          ],
          "name": "stdout"
        },
        {
          "output_type": "display_data",
          "data": {
            "image/png": "[encoded data removed]",
            "text/plain": [
              "<Figure size 432x288 with 1 Axes>"
            ]
          },
          "metadata": {
            "tags": []
          }
        },
        {
          "output_type": "stream",
          "text": [
            "Lamda equals \n",
            "200.0\n"
          ],
          "name": "stdout"
        },
        {
          "output_type": "display_data",
          "data": {
            "image/png": "[encoded data removed]",
            "text/plain": [
              "<Figure size 432x288 with 1 Axes>"
            ]
          },
          "metadata": {
            "tags": []
          }
        }
      ]
    },
    {
      "cell_type": "code",
      "metadata": {
        "id": "TTOAdHH031WY",
        "colab_type": "code",
        "colab": {}
      },
      "source": [
        ""
      ],
      "execution_count": 0,
      "outputs": []
    },
    {
      "cell_type": "markdown",
      "metadata": {
        "id": "YH58J4XE_6F9",
        "colab_type": "text"
      },
      "source": [
        "Task 5\n"
      ]
    },
    {
      "cell_type": "code",
      "metadata": {
        "id": "suXg4jawfnZO",
        "colab_type": "code",
        "colab": {
          "base_uri": "https://localhost:8080/",
          "height": 234
        },
        "outputId": "4c8c74e9-6b3f-462c-c5d4-d6af7fa68935"
      },
      "source": [
        "from sklearn.linear_model import Ridge\n",
        "print('Ridge regression')\n",
        "for x in range(1,4,1):\n",
        "  Ridge_model =Ridge(fit_intercept=True,normalize=False,copy_X=True,alpha=x+98*(x-1)+(x-2)*(x-1)/2)\n",
        "  Ridge_model.fit(X_train, Y_train)\n",
        "  predicted_train = Ridge_model.predict(X_train)\n",
        "  predicted_train = predicted_train - Y_train\n",
        "  predicted_train = np.square( predicted_train)\n",
        "  train_error = np.sqrt(predicted_train.sum()/354)\n",
        "  predicted_test = Ridge_model.predict(X_test)\n",
        "  predicted_test = predicted_test - Y_test\n",
        "  #predicted_test = np.abs( predicted_test)\n",
        "  predicted_test = np.square(predicted_test)\n",
        "  test_error = np.sqrt(predicted_test.sum()/152)\n",
        "\n",
        "  print('Lamda equals ')\n",
        "  print(x+98*(x-1)+(x-2)*(x-1)/2)\n",
        "  print('Mean Training error = ', train_error)\n",
        "  print('Mean Test Error = ', test_error)\n"
      ],
      "execution_count": 165,
      "outputs": [
        {
          "output_type": "stream",
          "text": [
            "Ridge regression\n",
            "Lamda equals \n",
            "1.0\n",
            "Mean Training error =  4.488295184661377\n",
            "Mean Test Error =  5.268987055608174\n",
            "Lamda equals \n",
            "100.0\n",
            "Mean Training error =  4.70448281621897\n",
            "Mean Test Error =  5.461926446399837\n",
            "Lamda equals \n",
            "200.0\n",
            "Mean Training error =  4.810792099814276\n",
            "Mean Test Error =  5.539707427944369\n"
          ],
          "name": "stdout"
        }
      ]
    },
    {
      "cell_type": "code",
      "metadata": {
        "id": "ylt37O3K_8LH",
        "colab_type": "code",
        "outputId": "8822b6f5-600a-4f82-b6ad-049208841085",
        "colab": {
          "base_uri": "https://localhost:8080/",
          "height": 354
        }
      },
      "source": [
        "print('Lasso regression')\n",
        "errorL = pd.DataFrame()\n",
        "from sklearn.linear_model import Lasso\n",
        "for x in range(1,4,1):\n",
        "  Lasso_model =Lasso(fit_intercept=True,normalize=False,copy_X=True,alpha=x+98*(x-1)+(x-2)*(x-1)/2)\n",
        "  Lasso_model.fit(X_train, Y_train)\n",
        "  predicted_train = Lasso_model.predict(X_train)\n",
        "  predicted_train = predicted_train - Y_train\n",
        "  predicted_train = np.square( predicted_train)\n",
        "  train_error = np.sqrt(predicted_train.sum()/354)\n",
        "  predicted_test = Lasso_model.predict(X_test)\n",
        "  predicted_test = predicted_test - Y_test\n",
        "  predicted_test = np.square(predicted_test)\n",
        "  test_error = np.sqrt(predicted_test.sum()/152)\n",
        "  errorL=errorL.append(pd.Series([x+98*(x-1)+(x-2)*(x-1)/2,train_error,test_error]),ignore_index=True)\n",
        "  print('Lamda equals ')\n",
        "  print(x+98*(x-1)+(x-2)*(x-1)/2)\n",
        "  print('Mean Training error = ', train_error)\n",
        "  print('Mean Test Error = ', test_error)\n",
        "errorL"
      ],
      "execution_count": 166,
      "outputs": [
        {
          "output_type": "stream",
          "text": [
            "Lasso regression\n",
            "Lamda equals \n",
            "1.0\n",
            "Mean Training error =  4.971571443561468\n",
            "Mean Test Error =  5.687269907307778\n",
            "Lamda equals \n",
            "100.0\n",
            "Mean Training error =  8.05517088475685\n",
            "Mean Test Error =  8.182032707539904\n",
            "Lamda equals \n",
            "200.0\n",
            "Mean Training error =  8.155103219797239\n",
            "Mean Test Error =  8.270165968144854\n"
          ],
          "name": "stdout"
        },
        {
          "output_type": "execute_result",
          "data": {
            "text/html": [
              "<div>\n",
              "<style scoped>\n",
              "    .dataframe tbody tr th:only-of-type {\n",
              "        vertical-align: middle;\n",
              "    }\n",
              "\n",
              "    .dataframe tbody tr th {\n",
              "        vertical-align: top;\n",
              "    }\n",
              "\n",
              "    .dataframe thead th {\n",
              "        text-align: right;\n",
              "    }\n",
              "</style>\n",
              "<table border=\"1\" class=\"dataframe\">\n",
              "  <thead>\n",
              "    <tr style=\"text-align: right;\">\n",
              "      <th></th>\n",
              "      <th>0</th>\n",
              "      <th>1</th>\n",
              "      <th>2</th>\n",
              "    </tr>\n",
              "  </thead>\n",
              "  <tbody>\n",
              "    <tr>\n",
              "      <th>0</th>\n",
              "      <td>1.0</td>\n",
              "      <td>4.971571</td>\n",
              "      <td>5.687270</td>\n",
              "    </tr>\n",
              "    <tr>\n",
              "      <th>1</th>\n",
              "      <td>100.0</td>\n",
              "      <td>8.055171</td>\n",
              "      <td>8.182033</td>\n",
              "    </tr>\n",
              "    <tr>\n",
              "      <th>2</th>\n",
              "      <td>200.0</td>\n",
              "      <td>8.155103</td>\n",
              "      <td>8.270166</td>\n",
              "    </tr>\n",
              "  </tbody>\n",
              "</table>\n",
              "</div>"
            ],
            "text/plain": [
              "       0         1         2\n",
              "0    1.0  4.971571  5.687270\n",
              "1  100.0  8.055171  8.182033\n",
              "2  200.0  8.155103  8.270166"
            ]
          },
          "metadata": {
            "tags": []
          },
          "execution_count": 166
        }
      ]
    },
    {
      "cell_type": "code",
      "metadata": {
        "id": "ll2zXgirC9G-",
        "colab_type": "code",
        "outputId": "2d97fea1-6206-4f41-f7f0-d818a83e1773",
        "colab": {
          "base_uri": "https://localhost:8080/",
          "height": 67
        }
      },
      "source": [
        "OLS_model = LinearRegression(fit_intercept=True,normalize=True,copy_X=True)\n",
        "OLS_model.fit(X_train, Y_train)\n",
        "predicted_train = OLS_model.predict(X_train)\n",
        "predicted_train = predicted_train - Y_train\n",
        "#predicted_test = np.abs( predicted_train)\n",
        "predicted_train = np.square(predicted_train)\n",
        "train_error = np.sqrt(predicted_train.sum()/354)\n",
        "predicted_test = OLS_model.predict(X_test)\n",
        "predicted_test = predicted_test - Y_test\n",
        "#predicted_test = np.abs( predicted_test)\n",
        "predicted_test = np.square(predicted_test)\n",
        "test_error = np.sqrt(predicted_test.sum()/152)\n",
        "print('OLS Regression')\n",
        "print('Mean Training error = ', train_error)\n",
        "print('Mean Test Error = ', test_error)\n"
      ],
      "execution_count": 167,
      "outputs": [
        {
          "output_type": "stream",
          "text": [
            "OLS Regression\n",
            "Mean Training error =  4.4674623461466405\n",
            "Mean Test Error =  5.214975145375403\n"
          ],
          "name": "stdout"
        }
      ]
    },
    {
      "cell_type": "code",
      "metadata": {
        "id": "O9BmmBB--eK5",
        "colab_type": "code",
        "colab": {}
      },
      "source": [
        ""
      ],
      "execution_count": 0,
      "outputs": []
    },
    {
      "cell_type": "code",
      "metadata": {
        "id": "0Jb6Y08x-eOt",
        "colab_type": "code",
        "colab": {}
      },
      "source": [
        ""
      ],
      "execution_count": 0,
      "outputs": []
    },
    {
      "cell_type": "markdown",
      "metadata": {
        "id": "8n12aIsUqyqs",
        "colab_type": "text"
      },
      "source": [
        "Analysis.(To be placed before task 1, but placed here to conserve the order of required tasks)\n"
      ]
    },
    {
      "cell_type": "code",
      "metadata": {
        "id": "shblYI3V-eI2",
        "colab_type": "code",
        "colab": {
          "base_uri": "https://localhost:8080/",
          "height": 1000
        },
        "outputId": "764bf9db-05e9-482d-d61e-1a2d5724f6a9"
      },
      "source": [
        "x= df['LSTAT']\n",
        "y = df['PRICE']\n",
        "plt.scatter(x, y, marker='o')\n",
        "plt.show()\n",
        "x= df['RM']\n",
        "y = df['PRICE']\n",
        "plt.scatter(x, y, marker='o')\n",
        "plt.show()\n",
        "x= df['B']\n",
        "y = df['PRICE']\n",
        "plt.scatter(x, y, marker='o')\n",
        "plt.show()\n",
        "x= df['NOX']\n",
        "y = df['PRICE']\n",
        "plt.scatter(x, y, marker='o')\n",
        "plt.show()"
      ],
      "execution_count": 168,
      "outputs": [
        {
          "output_type": "display_data",
          "data": {
            "image/png": "[encoded data removed]",
            "text/plain": [
              "<Figure size 432x288 with 1 Axes>"
            ]
          },
          "metadata": {
            "tags": []
          }
        },
        {
          "output_type": "display_data",
          "data": {
            "image/png": "[encoded data removed]",
            "text/plain": [
              "<Figure size 432x288 with 1 Axes>"
            ]
          },
          "metadata": {
            "tags": []
          }
        },
        {
          "output_type": "display_data",
          "data": {
            "image/png": "[encoded data removed]",
            "text/plain": [
              "<Figure size 432x288 with 1 Axes>"
            ]
          },
          "metadata": {
            "tags": []
          }
        },
        {
          "output_type": "display_data",
          "data": {
            "image/png": "[encoded data removed]",
            "text/plain": [
              "<Figure size 432x288 with 1 Axes>"
            ]
          },
          "metadata": {
            "tags": []
          }
        }
      ]
    },
    {
      "cell_type": "code",
      "metadata": {
        "id": "fybnzmG-BHcs",
        "colab_type": "code",
        "colab": {}
      },
      "source": [
        ""
      ],
      "execution_count": 0,
      "outputs": []
    }
  ]
}